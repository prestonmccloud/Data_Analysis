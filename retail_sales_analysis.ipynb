{
 "cells": [
  {
   "cell_type": "markdown",
   "id": "d543cf5a",
   "metadata": {},
   "source": [
    "\n",
    "# 🛍 Retail Sales Data Analysis\n",
    "\n",
    "## 📌 Project Overview\n",
    "This project analyzes retail sales data to uncover trends in revenue, customer behavior, and product performance.  \n",
    "We explore top-selling categories, seasonal trends, and demographic purchasing patterns.\n",
    "\n",
    "---\n",
    "\n",
    "## 📂 Dataset Description\n",
    "The dataset contains **transaction-level retail sales data** with the following columns:\n",
    "\n",
    "| Column | Description |\n",
    "|--------|-------------|\n",
    "| Transaction_ID | Unique ID for each transaction |\n",
    "| Date | Date of purchase |\n",
    "| Customer_ID | Unique customer ID |\n",
    "| Gender | Gender of the customer |\n",
    "| Age | Customer age |\n",
    "| Product_Category | Product category purchased |\n",
    "| Quantity | Units purchased |\n",
    "| Price_per_Unit | Price per unit in USD |\n",
    "| Total_Amount | Total sale value (Quantity × Price_per_Unit) |\n"
   ]
  },
  {
   "cell_type": "code",
   "execution_count": null,
   "id": "dbee7823",
   "metadata": {},
   "outputs": [],
   "source": [
    "\n",
    "# 📦 Import Libraries\n",
    "import pandas as pd\n",
    "import matplotlib.pyplot as plt\n",
    "import seaborn as sns\n",
    "\n",
    "# Styling\n",
    "sns.set(style=\"whitegrid\", palette=\"muted\", font_scale=1.1)\n",
    "\n",
    "# 🔹 Load Dataset\n",
    "df = pd.read_csv(\"retail_sales.csv\")\n",
    "\n",
    "# 🧹 Data Cleaning\n",
    "df['Date'] = pd.to_datetime(df['Date'])\n",
    "df.dropna(inplace=True)\n",
    "\n",
    "# Validate Total_Amount\n",
    "df['Check_Total'] = df['Quantity'] * df['Price_per_Unit']\n",
    "mismatch_count = (df['Check_Total'] != df['Total_Amount']).sum()\n",
    "\n",
    "print(f\"⚠️ Mismatched totals: {mismatch_count}\")\n",
    "df.drop(columns='Check_Total', inplace=True)\n"
   ]
  },
  {
   "cell_type": "markdown",
   "id": "34ff6678",
   "metadata": {},
   "source": [
    "\n",
    "## 1️⃣ Top-Selling Product Categories by Revenue\n",
    "\n",
    "We first analyze which product categories contribute most to total revenue.\n"
   ]
  },
  {
   "cell_type": "code",
   "execution_count": null,
   "id": "3a75b488",
   "metadata": {},
   "outputs": [],
   "source": [
    "\n",
    "category_sales = df.groupby('Product_Category', as_index=False)['Total_Amount'].sum()\n",
    "category_sales.sort_values(by='Total_Amount', ascending=False, inplace=True)\n",
    "\n",
    "plt.figure(figsize=(8, 5))\n",
    "sns.barplot(data=category_sales, x='Product_Category', y='Total_Amount')\n",
    "plt.title(\"Top-Selling Product Categories by Revenue\")\n",
    "plt.ylabel(\"Revenue\")\n",
    "plt.xlabel(\"Product Category\")\n",
    "plt.show()\n"
   ]
  },
  {
   "cell_type": "markdown",
   "id": "789e00f8",
   "metadata": {},
   "source": [
    "\n",
    "**Insight:**  \n",
    "This chart highlights which categories dominate sales.  \n",
    "Retailers can focus marketing and inventory investment on the highest-grossing categories.\n"
   ]
  },
  {
   "cell_type": "markdown",
   "id": "92bab8ab",
   "metadata": {},
   "source": [
    "\n",
    "## 2️⃣ Top 3 Sales Days per Product Category\n",
    "\n",
    "We find the top three days for each category based on total daily revenue.\n"
   ]
  },
  {
   "cell_type": "code",
   "execution_count": null,
   "id": "92eb64bb",
   "metadata": {},
   "outputs": [],
   "source": [
    "\n",
    "t1 = df.groupby(['Product_Category', 'Date'], as_index=False)['Total_Amount'].sum()\n",
    "t1.rename(columns={'Total_Amount': 'Category_Total'}, inplace=True)\n",
    "t1['Rank'] = t1.groupby('Product_Category')['Category_Total'].rank(method='dense', ascending=False)\n",
    "\n",
    "top3_days = t1[t1['Rank'] <= 3].sort_values(['Product_Category', 'Rank'])\n",
    "top3_days\n"
   ]
  },
  {
   "cell_type": "markdown",
   "id": "16a6be7d",
   "metadata": {},
   "source": [
    "\n",
    "**Insight:**  \n",
    "This table shows peak sales dates per category. These could align with promotions, seasonal demand, or special events.\n"
   ]
  },
  {
   "cell_type": "markdown",
   "id": "3eda3a7e",
   "metadata": {},
   "source": [
    "\n",
    "## 3️⃣ Monthly Sales Trend\n",
    "\n",
    "We examine revenue over time to identify seasonality and growth patterns.\n"
   ]
  },
  {
   "cell_type": "code",
   "execution_count": null,
   "id": "2ea45aef",
   "metadata": {},
   "outputs": [],
   "source": [
    "\n",
    "monthly_sales = df.resample('M', on='Date')['Total_Amount'].sum().reset_index()\n",
    "\n",
    "plt.figure(figsize=(10, 5))\n",
    "sns.lineplot(data=monthly_sales, x='Date', y='Total_Amount', marker='o')\n",
    "plt.title(\"Monthly Sales Trend\")\n",
    "plt.ylabel(\"Revenue\")\n",
    "plt.xlabel(\"Month\")\n",
    "plt.show()\n"
   ]
  },
  {
   "cell_type": "markdown",
   "id": "d0f37ffe",
   "metadata": {},
   "source": [
    "\n",
    "**Insight:**  \n",
    "Monthly revenue trends reveal seasonality and can help forecast future demand.\n"
   ]
  },
  {
   "cell_type": "markdown",
   "id": "a0845cde",
   "metadata": {},
   "source": [
    "\n",
    "## 4️⃣ Average Order Value (AOV)\n",
    "\n",
    "We calculate the mean value of a transaction.\n"
   ]
  },
  {
   "cell_type": "code",
   "execution_count": null,
   "id": "ae4c0ffb",
   "metadata": {},
   "outputs": [],
   "source": [
    "\n",
    "aov = df['Total_Amount'].mean()\n",
    "print(f\"💰 Average Order Value (AOV): ${aov:.2f}\")\n"
   ]
  },
  {
   "cell_type": "markdown",
   "id": "a194157f",
   "metadata": {},
   "source": [
    "\n",
    "**Insight:**  \n",
    "AOV is a key metric for tracking customer spending habits and setting upsell targets.\n"
   ]
  },
  {
   "cell_type": "markdown",
   "id": "7b274a56",
   "metadata": {},
   "source": [
    "\n",
    "## 5️⃣ Revenue by Age Group\n",
    "\n",
    "We bucket customers into age ranges and analyze spending patterns.\n"
   ]
  },
  {
   "cell_type": "code",
   "execution_count": null,
   "id": "f22acb2b",
   "metadata": {},
   "outputs": [],
   "source": [
    "\n",
    "bins = [0, 25, 35, 45, 55, 65, 100]\n",
    "labels = ['18-25', '26-35', '36-45', '46-55', '56-65', '65+']\n",
    "df['Age_Group'] = pd.cut(df['Age'], bins=bins, labels=labels, right=False)\n",
    "\n",
    "age_group_sales = df.groupby('Age_Group')['Total_Amount'].sum().reset_index()\n",
    "\n",
    "plt.figure(figsize=(8, 5))\n",
    "sns.barplot(data=age_group_sales, x='Age_Group', y='Total_Amount')\n",
    "plt.title(\"Revenue by Age Group\")\n",
    "plt.ylabel(\"Revenue\")\n",
    "plt.xlabel(\"Age Group\")\n",
    "plt.show()\n"
   ]
  },
  {
   "cell_type": "markdown",
   "id": "d3c900a9",
   "metadata": {},
   "source": [
    "\n",
    "**Insight:**  \n",
    "Identifying high-spending age groups can help target promotions and tailor product offerings.\n"
   ]
  },
  {
   "cell_type": "markdown",
   "id": "ac65aa98",
   "metadata": {},
   "source": [
    "\n",
    "## 6️⃣ Revenue by Gender\n",
    "\n",
    "We compare total revenue contributions by gender.\n"
   ]
  },
  {
   "cell_type": "code",
   "execution_count": null,
   "id": "2cc6a366",
   "metadata": {},
   "outputs": [],
   "source": [
    "\n",
    "gender_sales = df.groupby('Gender')['Total_Amount'].sum().reset_index()\n",
    "\n",
    "plt.figure(figsize=(6, 5))\n",
    "sns.barplot(data=gender_sales, x='Gender', y='Total_Amount')\n",
    "plt.title(\"Revenue by Gender\")\n",
    "plt.ylabel(\"Revenue\")\n",
    "plt.xlabel(\"Gender\")\n",
    "plt.show()\n"
   ]
  },
  {
   "cell_type": "markdown",
   "id": "ee98d428",
   "metadata": {},
   "source": [
    "\n",
    "**Insight:**  \n",
    "Gender-based insights can inform targeted campaigns and personalized shopping experiences.\n"
   ]
  },
  {
   "cell_type": "markdown",
   "id": "8ed5611f",
   "metadata": {},
   "source": [
    "\n",
    "# 📌 Conclusion\n",
    "This analysis provided insights into:\n",
    "- The highest-grossing product categories\n",
    "- Seasonal sales trends\n",
    "- Demographic spending patterns\n",
    "- Customer spending behavior\n",
    "\n",
    "These findings can guide marketing strategies, inventory management, and long-term business planning.\n",
    "\n",
    "---\n",
    "\n",
    "**Next Steps:**\n",
    "- Extend analysis to multiple years for stronger trend detection\n",
    "- Add promotional event data to measure campaign impact\n",
    "- Perform RFM (Recency, Frequency, Monetary) analysis for customer segmentation\n"
   ]
  }
 ],
 "metadata": {},
 "nbformat": 4,
 "nbformat_minor": 5
}
